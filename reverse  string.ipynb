{
 "cells": [
  {
   "cell_type": "code",
   "execution_count": 1,
   "id": "181595ea",
   "metadata": {},
   "outputs": [
    {
     "name": "stdout",
     "output_type": "stream",
     "text": [
      "sample string :\n",
      "1234abcd\n",
      "reversed string(using loops): \n",
      "1\n"
     ]
    }
   ],
   "source": [
    "def reverse(s):\n",
    "    str=\"\"\n",
    "    for i in s :\n",
    "        str =i +str\n",
    "        return str\n",
    "s=\"1234abcd\"\n",
    "print(\"sample string :\")\n",
    "print(s)\n",
    "print(\"reversed string(using loops): \")\n",
    "print(reverse(s))"
   ]
  },
  {
   "cell_type": "code",
   "execution_count": null,
   "id": "aefb8e60",
   "metadata": {},
   "outputs": [],
   "source": []
  }
 ],
 "metadata": {
  "kernelspec": {
   "display_name": "Python 3 (ipykernel)",
   "language": "python",
   "name": "python3"
  },
  "language_info": {
   "codemirror_mode": {
    "name": "ipython",
    "version": 3
   },
   "file_extension": ".py",
   "mimetype": "text/x-python",
   "name": "python",
   "nbconvert_exporter": "python",
   "pygments_lexer": "ipython3",
   "version": "3.9.7"
  }
 },
 "nbformat": 4,
 "nbformat_minor": 5
}
