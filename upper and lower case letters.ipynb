{
 "cells": [
  {
   "cell_type": "code",
   "execution_count": 27,
   "id": "085ec76f",
   "metadata": {},
   "outputs": [
    {
     "name": "stdout",
     "output_type": "stream",
     "text": [
      "No.of upper case letters : 3\n",
      "No.of lower case letters : 12\n"
     ]
    }
   ],
   "source": [
    "def casecal(string):\n",
    "    u=0\n",
    "    l=0\n",
    "    string=string.replace(' ','')\n",
    "    for char in string:\n",
    "        if char.isupper():\n",
    "            u += 1\n",
    "        else:\n",
    "            l += 1\n",
    "           \n",
    "    print('No.of upper case letters :',u)\n",
    "    print('No.of lower case letters :',l)\n",
    "s = 'The quick Brow Fox'\n",
    "casecal(s)"
   ]
  },
  {
   "cell_type": "code",
   "execution_count": null,
   "id": "a24f7f96",
   "metadata": {},
   "outputs": [],
   "source": []
  }
 ],
 "metadata": {
  "kernelspec": {
   "display_name": "Python 3 (ipykernel)",
   "language": "python",
   "name": "python3"
  },
  "language_info": {
   "codemirror_mode": {
    "name": "ipython",
    "version": 3
   },
   "file_extension": ".py",
   "mimetype": "text/x-python",
   "name": "python",
   "nbconvert_exporter": "python",
   "pygments_lexer": "ipython3",
   "version": "3.9.7"
  }
 },
 "nbformat": 4,
 "nbformat_minor": 5
}
